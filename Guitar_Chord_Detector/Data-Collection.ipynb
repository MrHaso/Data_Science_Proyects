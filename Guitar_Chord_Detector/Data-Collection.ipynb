{
 "cells": [
  {
   "cell_type": "markdown",
   "id": "5a19a3bc",
   "metadata": {},
   "source": [
    "# In this Notebook we collect a number of images for an specific Chord Class\n",
    "## Author: MrHaso 2022"
   ]
  },
  {
   "cell_type": "markdown",
   "id": "3fa56065",
   "metadata": {},
   "source": [
    "### Imports"
   ]
  },
  {
   "cell_type": "code",
   "execution_count": 1,
   "id": "f66fb872",
   "metadata": {},
   "outputs": [],
   "source": [
    "import os\n",
    "import cv2 "
   ]
  },
  {
   "cell_type": "markdown",
   "id": "0bed0b94",
   "metadata": {},
   "source": [
    "### Selection of Chord and number of Pictures to take"
   ]
  },
  {
   "cell_type": "code",
   "execution_count": 34,
   "id": "042a33d7",
   "metadata": {},
   "outputs": [
    {
     "name": "stdout",
     "output_type": "stream",
     "text": [
      "Which chord do you want to capture? No_Chord\n",
      "How many pictures do you want to take? 100\n"
     ]
    }
   ],
   "source": [
    "chord = input(\"Which chord do you want to capture? \")\n",
    "ready = False\n",
    "while not ready:\n",
    "    pics = int(input(\"How many pictures do you want to take? \"))\n",
    "    if pics>0:\n",
    "        break\n",
    "    print('Invalid number, must be above 0')\n",
    "\n",
    "\n",
    "output_path = \"Images/class_\"+chord+\"/\"\n",
    "nth_frame = 15\n",
    "minBlur = 200\n",
    "file_num = 0\n",
    "curr_frame = 0"
   ]
  },
  {
   "cell_type": "markdown",
   "id": "3ee7ee42",
   "metadata": {},
   "source": [
    "### Capture Pictures"
   ]
  },
  {
   "cell_type": "code",
   "execution_count": null,
   "id": "f8de013c",
   "metadata": {
    "scrolled": true
   },
   "outputs": [],
   "source": [
    "# Verify if the selected chord has a folder\n",
    "if not os.path.exists(output_path):\n",
    "    os.makedirs(output_path)\n",
    "else:\n",
    "    # if theres a folder with the chord name \n",
    "    # check the number of files and start counting from that number\n",
    "    for path in os.listdir(output_path):\n",
    "        if os.path.isfile(os.path.join(output_path, path)):\n",
    "            file_num += 1\n",
    "\n",
    "final_count=file_num\n",
    "            \n",
    "# Setup camera attributes to take pictures with HD-USB Cam \n",
    "cam = cv2.VideoCapture(0, cv2.CAP_DSHOW)\n",
    "cam.set(10,150)\n",
    "cam.set(cv2.CAP_PROP_FPS, 30.0)\n",
    "cam.set(cv2.CAP_PROP_FOURCC, cv2.VideoWriter.fourcc('m','j','p','g'))\n",
    "cam.set(cv2.CAP_PROP_FOURCC, cv2.VideoWriter.fourcc('M','J','P','G'))\n",
    "cam.set(cv2.CAP_PROP_FRAME_WIDTH, 640)\n",
    "cam.set(cv2.CAP_PROP_FRAME_HEIGHT, 480)\n",
    "\n",
    "\n",
    "\n",
    "save = False\n",
    "size=(64,64)\n",
    "\n",
    "while file_num<=final_count+pics:\n",
    "    while not save:    \n",
    "        ret, frame = cam.read()\n",
    "        frame = frame[0:120,0:120]\n",
    "        frame2 = cv2.resize(frame,size)\n",
    "        frame = cv2.flip(frame,1)\n",
    "        frame3 = cv2.resize(frame,(480,480))\n",
    "        blur = cv2.Laplacian(frame,cv2.CV_64F).var()\n",
    "        #print(blur)\n",
    "        if cv2.waitKey(1) & 0xFF == ord('s'):\n",
    "            print(\"Saving Images Now ...\")\n",
    "            save = True\n",
    "\n",
    "        if cv2.waitKey(1) & 0xFF == ord('q'):\n",
    "            break\n",
    "\n",
    "        cv2.imshow(\"CAM\",frame3)\n",
    "        #cv2.imshow(\"cam\",frame2)\n",
    "                \n",
    "    file_name = output_path + chord + \"_{:03d}.jpg\".format(file_num)\n",
    "    ret, frame = cam.read()\n",
    "    frame = frame[0:120,0:120]\n",
    "    frame2 = cv2.resize(frame,size)\n",
    "    frame = cv2.flip(frame,1)\n",
    "    frame3 = cv2.resize(frame,(480,480))\n",
    "    blur = cv2.Laplacian(frame,cv2.CV_64F).var()\n",
    "    \n",
    "    \n",
    "    \n",
    "    if curr_frame % nth_frame == 0 and blur > minBlur:\n",
    "        print(f'saving image: {file_name}')\n",
    "        cv2.imwrite(file_name, frame2)\n",
    "        file_num += 1 \n",
    "    \n",
    "    \n",
    "    curr_frame += 1 \n",
    "    cv2.imshow(\"CAM\",frame3)\n",
    "    \n",
    "    if cv2.waitKey(1) & 0xFF == ord('q'):\n",
    "        break\n",
    "\n",
    "    \n",
    "cam.release()\n",
    "cv2.destroyAllWindows()"
   ]
  },
  {
   "cell_type": "code",
   "execution_count": null,
   "id": "bb57da5b",
   "metadata": {},
   "outputs": [],
   "source": []
  }
 ],
 "metadata": {
  "kernelspec": {
   "display_name": "Python 3 (ipykernel)",
   "language": "python",
   "name": "python3"
  },
  "language_info": {
   "codemirror_mode": {
    "name": "ipython",
    "version": 3
   },
   "file_extension": ".py",
   "mimetype": "text/x-python",
   "name": "python",
   "nbconvert_exporter": "python",
   "pygments_lexer": "ipython3",
   "version": "3.9.5"
  }
 },
 "nbformat": 4,
 "nbformat_minor": 5
}
